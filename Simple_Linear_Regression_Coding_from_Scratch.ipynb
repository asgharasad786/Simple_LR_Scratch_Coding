{
  "cells": [
    {
      "cell_type": "code",
      "execution_count": 201,
      "metadata": {
        "id": "YV9YWXgadhlt"
      },
      "outputs": [],
      "source": [
        "import pandas as pd\n",
        "import numpy as np"
      ]
    },
    {
      "cell_type": "code",
      "execution_count": 189,
      "metadata": {
        "id": "Ws8wkiN8dhlx"
      },
      "outputs": [],
      "source": [
        "X_train= pd.read_csv('/content/X_train.csv').values\n",
        "y_train= pd.read_csv('/content/y_train.csv').values\n",
        "X_test= pd.read_csv('/content/X_test.csv').values\n",
        "y_test= pd.read_csv('/content/y_test.csv').values"
      ]
    },
    {
      "cell_type": "markdown",
      "source": [
        "**Linear Model Scratch Coding**"
      ],
      "metadata": {
        "id": "grj9lELAFij7"
      }
    },
    {
      "cell_type": "code",
      "source": [
        "class LR_Model:\n",
        "\n",
        "    def __init__(self):\n",
        "        self.m = None\n",
        "        self.b = None\n",
        "\n",
        "    def fit(self,X_train,y_train):\n",
        "\n",
        "        num = 0\n",
        "        den = 0\n",
        "\n",
        "        for i in range(X_train.shape[0]):\n",
        "\n",
        "            num = num + ((X_train[i] - X_train.mean())*(y_train[i] - y_train.mean()))\n",
        "            den = den + ((X_train[i] - X_train.mean())**2)\n",
        "\n",
        "        self.m = num/den\n",
        "        self.b = y_train.mean() - (self.m * X_train.mean())\n",
        "        print(\"Value of Coeff_\",self.m)\n",
        "        print(\"Value of Intercept_\",self.b)\n",
        "\n",
        "    def predict(self,X_test):\n",
        "\n",
        "        # print(\"CGPA: \", X_test)\n",
        "\n",
        "        return self.m * X_test + self.b"
      ],
      "metadata": {
        "id": "B3_MXIsbpgU7"
      },
      "execution_count": 190,
      "outputs": []
    },
    {
      "cell_type": "code",
      "source": [
        "Model=LR_Model()"
      ],
      "metadata": {
        "id": "ZwkspIiOs0Le"
      },
      "execution_count": 191,
      "outputs": []
    },
    {
      "cell_type": "code",
      "source": [
        "Model.fit(X_train,y_train)"
      ],
      "metadata": {
        "colab": {
          "base_uri": "https://localhost:8080/"
        },
        "id": "nJJnshj0pgW-",
        "outputId": "1a930848-fb54-40d8-b027-90bb248eac9f"
      },
      "execution_count": 192,
      "outputs": [
        {
          "output_type": "stream",
          "name": "stdout",
          "text": [
            "Value of Coeff_ [0.56959129]\n",
            "Value of Intercept_ [-0.98567795]\n"
          ]
        }
      ]
    },
    {
      "cell_type": "code",
      "source": [
        "y_pred=Model.predict(X_test[0])\n",
        "y_pred"
      ],
      "metadata": {
        "colab": {
          "base_uri": "https://localhost:8080/"
        },
        "id": "c-utIicHpgYp",
        "outputId": "7bde8876-e819-49ad-eee5-8a84f957aa11"
      },
      "execution_count": 213,
      "outputs": [
        {
          "output_type": "execute_result",
          "data": {
            "text/plain": [
              "array([3.90141536])"
            ]
          },
          "metadata": {},
          "execution_count": 213
        }
      ]
    }
  ],
  "metadata": {
    "kernelspec": {
      "display_name": "Python 3",
      "language": "python",
      "name": "python3"
    },
    "language_info": {
      "codemirror_mode": {
        "name": "ipython",
        "version": 3
      },
      "file_extension": ".py",
      "mimetype": "text/x-python",
      "name": "python",
      "nbconvert_exporter": "python",
      "pygments_lexer": "ipython3",
      "version": "3.8.3"
    },
    "colab": {
      "provenance": []
    }
  },
  "nbformat": 4,
  "nbformat_minor": 0
}